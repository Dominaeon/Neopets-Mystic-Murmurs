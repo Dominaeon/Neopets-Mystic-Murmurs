{
 "cells": [
  {
   "cell_type": "markdown",
   "metadata": {},
   "source": [
    "### Neopets Mystic Murmuers Nov 2017"
   ]
  },
  {
   "cell_type": "code",
   "execution_count": 166,
   "metadata": {
    "collapsed": true
   },
   "outputs": [],
   "source": [
    "import csv"
   ]
  },
  {
   "cell_type": "markdown",
   "metadata": {},
   "source": [
    "We open each textfile in my folder with the csv.reader() function, then we save each list into three different lists in python for analysis."
   ]
  },
  {
   "cell_type": "code",
   "execution_count": 184,
   "metadata": {
    "collapsed": true
   },
   "outputs": [],
   "source": [
    "tex1, text2, text3 = [], [], []\n",
    "\n",
    "with open('text1.txt') as inputfile:\n",
    "    text1 = list(csv.reader(inputfile, delimiter=' '))\n",
    "    text1 = text1[0]\n",
    "with open('text2.txt') as inputfile:\n",
    "    text2 = list(csv.reader(inputfile, delimiter=' '))\n",
    "    text2 = text2[0]\n",
    "with open('text3.txt') as inputfile:\n",
    "    text3 = list(csv.reader(inputfile, delimiter=' '))\n",
    "    text3 = text3[0]"
   ]
  },
  {
   "cell_type": "markdown",
   "metadata": {},
   "source": [
    "One we have our lists, lets analyze list 1 with list 2 and get the common characters at the same index. Then we do the same with list 1 and list 3."
   ]
  },
  {
   "cell_type": "code",
   "execution_count": 185,
   "metadata": {
    "collapsed": true
   },
   "outputs": [],
   "source": [
    "joined_text1 = []\n",
    "joined_text2 = []\n",
    "joined_text3 = []\n",
    "\n",
    "for i in range(len(text1)):\n",
    "    if text1[i] == text2[i]:\n",
    "        joined_text1.append(text1[i])\n",
    "for i in range(len(text1)):\n",
    "    if text1[i] == text3[i]:\n",
    "        joined_text2.append(text3[i])\n",
    "for i in range(len(text1)):\n",
    "    if text2[i] == text3[i]:\n",
    "        joined_text3.append(text2[i])"
   ]
  },
  {
   "cell_type": "markdown",
   "metadata": {},
   "source": [
    "Once we have our joined lists, I perform an \"and\" operation which only joins if the two inputs are the same. EX: a and b = 0, a and a = a\n",
    "\n",
    "# Here is you answer"
   ]
  },
  {
   "cell_type": "code",
   "execution_count": 187,
   "metadata": {},
   "outputs": [
    {
     "name": "stdout",
     "output_type": "stream",
     "text": [
      "hauntedhounse\n"
     ]
    }
   ],
   "source": [
    "a = joined_text1\n",
    "b = joined_text2\n",
    "c = joined_text3\n",
    "d = [x for x in a if x in b]\n",
    "\n",
    "\n",
    "print ''.join([x for x in d if x in c])"
   ]
  }
 ],
 "metadata": {
  "kernelspec": {
   "display_name": "Python 2",
   "language": "python",
   "name": "python2"
  },
  "language_info": {
   "codemirror_mode": {
    "name": "ipython",
    "version": 2
   },
   "file_extension": ".py",
   "mimetype": "text/x-python",
   "name": "python",
   "nbconvert_exporter": "python",
   "pygments_lexer": "ipython2",
   "version": "2.7.14"
  }
 },
 "nbformat": 4,
 "nbformat_minor": 2
}
